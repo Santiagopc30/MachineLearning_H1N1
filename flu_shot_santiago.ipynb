{
 "metadata": {
  "language_info": {
   "codemirror_mode": {
    "name": "ipython",
    "version": 3
   },
   "file_extension": ".py",
   "mimetype": "text/x-python",
   "name": "python",
   "nbconvert_exporter": "python",
   "pygments_lexer": "ipython3",
   "version": "3.7.4-final"
  },
  "orig_nbformat": 2,
  "kernelspec": {
   "name": "Python 3.7.4 64-bit ('base': conda)",
   "display_name": "Python 3.7.4 64-bit ('base': conda)",
   "metadata": {
    "interpreter": {
     "hash": "8f15bff93f42e872c5b524f83b61ecc5594fcb440e28dade263c07c4c711583a"
    }
   }
  }
 },
 "nbformat": 4,
 "nbformat_minor": 2,
 "cells": [
  {
   "cell_type": "code",
   "execution_count": 1,
   "metadata": {},
   "outputs": [],
   "source": [
    "# Import libraries\n",
    "import pandas as pd\n",
    "import matplotlib.pyplot as plt\n",
    "import numpy as np\n",
    "import seaborn as sns\n",
    "import missingno as msno\n",
    "import datetime as dt"
   ]
  },
  {
   "cell_type": "code",
   "execution_count": 2,
   "metadata": {},
   "outputs": [],
   "source": [
    "# Read in the datasetnet\n",
    "h1n1 = pd.read_csv(\"training_set_features.csv\", sep=\",\")\n",
    "features = pd.read_csv(\"features_explained.csv\", sep=\",\", names=['Feature','Explain','Measure'])\n"
   ]
  },
  {
   "cell_type": "code",
   "execution_count": 3,
   "metadata": {
    "tags": []
   },
   "outputs": [
    {
     "output_type": "stream",
     "name": "stdout",
     "text": "h1n1_concern                  :  Level of concern about the H1N1 flu.\nh1n1_knowledge                :  Level of knowledge about H1N1 flu.\nbehavioral_antiviral_meds     :  Has taken antiviral medications.\nbehavioral_avoidance          :  Has avoided close contact with others with flu like symptoms.\nbehavioral_face_mask          :  Has bought a face mask.\nbehavioral_wash_hands         :  Has frequently washed hands or used hand sanitizer.\nbehavioral_large_gatherings   :  Has reduced time at large gatherings.\nbehavioral_outside_home       :  Has reduced contact with people outside of own household.\nbehavioral_touch_face         :  Has avoided touching eyes, nose, or mouth.\ndoctor_recc_h1n1              :  H1N1 flu vaccine was recommended by doctor.\ndoctor_recc_seasonal          :  Seasonal flu vaccine was recommended by doctor.\nchronic_med_condition         :  Has any of the following chronic medical conditions\nchild_under_6_months          :  Has regular close contact with a child under the age of six months.\nhealth_worker                 :  Is a healthcare worker.\nhealth_insurance              :  Has health insurance.\nopinion_h1n1_vacc_effective   :  Respondent's opinion about H1N1 vaccine effectiveness.\nopinion_h1n1_risk             :  Respondent's opinion about risk of getting sick with H1N1 flu without vaccine.\nopinion_h1n1_sick_from_vacc   :  Respondent's worry of getting sick from taking H1N1 vaccine.\nopinion_seas_vacc_effective   :  Respondent's opinion about seasonal flu vaccine effectiveness.\nopinion_seas_risk             :  Respondent's opinion about risk of getting sick with seasonal flu without vaccine.\nopinion_seas_sick_from_vacc   :  Respondent's worry of getting sick from taking seasonal flu vaccine.\nage_group                     :  Age group of respondent.\neducation                     :  Self reported education level.\nrace                          :  Race of respondent.\nsex                           :  Sex of respondent.\nincome_poverty                :  Household annual income of respondent with respect to 2008 Census poverty thresholds.\nmarital_status                :  Marital status of respondent.\nrent_or_own                   :  Housing situation of respondent.\nemployment_status             :  Employment status of respondent.\nhhs_geo_region                :  Respondent's residence using a 10 region geographic classification defined by the U.S. Dept. of Health and Human Services. Values are represented as short random character strings.\ncensus_msa                    :  Respondent's residence within metropolitan statistical areas (MSA) as defined by the U.S. Census.\nhousehold_adults              :  Number of other adults in household, top\nhousehold_children            :  Number of children in household, top coded to 3.\nemployment_industry           :  Type of industry respondent is employed in. Values are represented as short random character strings.\nemployment_occupation         :  Type of occupation of respondent. Values are represented as short random character strings.\n"
    }
   ],
   "source": [
    "for sp in range(0, len(features)):\n",
    "    pattern = (28 - len(features['Feature'][sp])) * ' '\n",
    "    print(features['Feature'][sp], pattern, ':', features['Explain'][sp])"
   ]
  },
  {
   "cell_type": "code",
   "execution_count": 4,
   "metadata": {},
   "outputs": [],
   "source": [
    "for sp in range(1,21):\n",
    "    h1n1.iloc[:,sp] = h1n1.iloc[:,sp].astype(str)\n",
    "    h1n1.iloc[:,sp] = h1n1.iloc[:,sp].str.replace(\".0\", \"\")\n"
   ]
  },
  {
   "cell_type": "code",
   "execution_count": 5,
   "metadata": {},
   "outputs": [
    {
     "output_type": "execute_result",
     "data": {
      "text/plain": "respondent_id                      0\nh1n1_concern                       0\nh1n1_knowledge                     0\nbehavioral_antiviral_meds          0\nbehavioral_avoidance               0\nbehavioral_face_mask               0\nbehavioral_wash_hands              0\nbehavioral_large_gatherings        0\nbehavioral_outside_home            0\nbehavioral_touch_face              0\ndoctor_recc_h1n1                   0\ndoctor_recc_seasonal               0\nchronic_med_condition              0\nchild_under_6_months               0\nhealth_worker                      0\nhealth_insurance                   0\nopinion_h1n1_vacc_effective        0\nopinion_h1n1_risk                  0\nopinion_h1n1_sick_from_vacc        0\nopinion_seas_vacc_effective        0\nopinion_seas_risk                  0\nopinion_seas_sick_from_vacc      537\nage_group                          0\neducation                       1407\nrace                               0\nsex                                0\nincome_poverty                  4423\nmarital_status                  1408\nrent_or_own                     2042\nemployment_status               1463\nhhs_geo_region                     0\ncensus_msa                         0\nhousehold_adults                 249\nhousehold_children               249\nemployment_industry            13330\nemployment_occupation          13470\ndtype: int64"
     },
     "metadata": {},
     "execution_count": 5
    }
   ],
   "source": [
    "h1n1.isna().sum()"
   ]
  },
  {
   "cell_type": "code",
   "execution_count": 6,
   "metadata": {
    "tags": []
   },
   "outputs": [
    {
     "output_type": "stream",
     "name": "stdout",
     "text": "  index  h1n1_concern\n0     2         10575\n1     1          8153\n2     3          4591\n3     0          3296\n4   nan            92\n  index  h1n1_knowledge\n0     1           14598\n1     2            9487\n2     0            2506\n3   nan             116\n  index  behavioral_antiviral_meds\n0     0                      25335\n1     1                       1301\n2   nan                         71\n  index  behavioral_avoidance\n0     1                 19228\n1     0                  7271\n2   nan                   208\n  index  behavioral_face_mask\n0     0                 24847\n1     1                  1841\n2   nan                    19\n  index  behavioral_wash_hands\n0     1                  22015\n1     0                   4650\n2   nan                     42\n  index  behavioral_large_gatherings\n0     0                        17073\n1     1                         9547\n2   nan                           87\n  index  behavioral_outside_home\n0     0                    17644\n1     1                     8981\n2   nan                       82\n  index  behavioral_touch_face\n0     1                  18001\n1     0                   8578\n2   nan                    128\n  index  doctor_recc_h1n1\n0     0             19139\n1     1              5408\n2   nan              2160\n  index  doctor_recc_seasonal\n0     0                 16453\n1     1                  8094\n2   nan                  2160\n  index  chronic_med_condition\n0     0                  18446\n1     1                   7290\n2   nan                    971\n  index  child_under_6_months\n0     0                 23749\n1     1                  2138\n2   nan                   820\n  index  health_worker\n0     0          23004\n1     1           2899\n2   nan            804\n  index  health_insurance\n0     1             12697\n1   nan             12274\n2     0              1736\n  index  opinion_h1n1_vacc_effective\n0     4                        11683\n1     5                         7166\n2     3                         4723\n3     2                         1858\n4     1                          886\n5   nan                          391\n  index  opinion_h1n1_risk\n0     2               9919\n1     1               8139\n2     4               5394\n3     5               1750\n4     3               1117\n5   nan                388\n  index  opinion_h1n1_sick_from_vacc\n0     2                         9129\n1     1                         8998\n2     4                         5850\n3     5                         2187\n4   nan                          395\n5     3                          148\n  index  opinion_seas_vacc_effective\n0     4                        11629\n1     5                         9973\n2     2                         2206\n3     1                         1221\n4     3                         1216\n5   nan                          462\n  index  opinion_seas_risk\n0     2               8954\n1     4               7630\n2     1               5974\n3     5               2958\n4     3                677\n5   nan                514\n"
    }
   ],
   "source": [
    "for sp in range(1,21):\n",
    "    print(pd.value_counts(h1n1.iloc[:,sp]).to_frame().reset_index())"
   ]
  },
  {
   "cell_type": "code",
   "execution_count": 7,
   "metadata": {},
   "outputs": [],
   "source": [
    "h1n1.drop([\"health_insurance\"], axis=1, inplace=True)"
   ]
  },
  {
   "cell_type": "code",
   "execution_count": 8,
   "metadata": {
    "tags": []
   },
   "outputs": [],
   "source": [
    "for sp in range(1,21):\n",
    "    h1n1.iloc[:,sp] = h1n1.iloc[:,sp].replace(\"nan\", h1n1.iloc[:,sp].mode()[0])"
   ]
  },
  {
   "cell_type": "code",
   "execution_count": 9,
   "metadata": {
    "tags": []
   },
   "outputs": [
    {
     "output_type": "stream",
     "name": "stdout",
     "text": "  index  h1n1_concern\n0     2         10667\n1     1          8153\n2     3          4591\n3     0          3296\n  index  h1n1_knowledge\n0     1           14714\n1     2            9487\n2     0            2506\n  index  behavioral_antiviral_meds\n0     0                      25406\n1     1                       1301\n  index  behavioral_avoidance\n0     1                 19436\n1     0                  7271\n  index  behavioral_face_mask\n0     0                 24866\n1     1                  1841\n  index  behavioral_wash_hands\n0     1                  22057\n1     0                   4650\n  index  behavioral_large_gatherings\n0     0                        17160\n1     1                         9547\n  index  behavioral_outside_home\n0     0                    17726\n1     1                     8981\n  index  behavioral_touch_face\n0     1                  18129\n1     0                   8578\n  index  doctor_recc_h1n1\n0     0             21299\n1     1              5408\n  index  doctor_recc_seasonal\n0     0                 18613\n1     1                  8094\n  index  chronic_med_condition\n0     0                  19417\n1     1                   7290\n  index  child_under_6_months\n0     0                 24569\n1     1                  2138\n  index  health_worker\n0     0          23808\n1     1           2899\n  index  opinion_h1n1_vacc_effective\n0     4                        12074\n1     5                         7166\n2     3                         4723\n3     2                         1858\n4     1                          886\n  index  opinion_h1n1_risk\n0     2              10307\n1     1               8139\n2     4               5394\n3     5               1750\n4     3               1117\n  index  opinion_h1n1_sick_from_vacc\n0     2                         9524\n1     1                         8998\n2     4                         5850\n3     5                         2187\n4     3                          148\n  index  opinion_seas_vacc_effective\n0     4                        12091\n1     5                         9973\n2     2                         2206\n3     1                         1221\n4     3                         1216\n  index  opinion_seas_risk\n0     2               9468\n1     4               7630\n2     1               5974\n3     5               2958\n4     3                677\n   index  opinion_seas_sick_from_vacc\n0    1.0                        11870\n1    2.0                         7633\n2    4.0                         4852\n3    5.0                         1721\n4    3.0                           94\n"
    }
   ],
   "source": [
    "for sp in range(1,21):\n",
    "    print(pd.value_counts(h1n1.iloc[:,sp]).to_frame().reset_index())"
   ]
  },
  {
   "cell_type": "code",
   "execution_count": null,
   "metadata": {},
   "outputs": [],
   "source": []
  }
 ]
}