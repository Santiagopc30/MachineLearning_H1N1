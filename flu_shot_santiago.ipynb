{
 "metadata": {
  "language_info": {
   "codemirror_mode": {
    "name": "ipython",
    "version": 3
   },
   "file_extension": ".py",
   "mimetype": "text/x-python",
   "name": "python",
   "nbconvert_exporter": "python",
   "pygments_lexer": "ipython3",
   "version": "3.7.4-final"
  },
  "orig_nbformat": 2,
  "kernelspec": {
   "name": "Python 3.7.4 64-bit ('base': conda)",
   "display_name": "Python 3.7.4 64-bit ('base': conda)",
   "metadata": {
    "interpreter": {
     "hash": "8f15bff93f42e872c5b524f83b61ecc5594fcb440e28dade263c07c4c711583a"
    }
   }
  }
 },
 "nbformat": 4,
 "nbformat_minor": 2,
 "cells": [
  {
   "cell_type": "code",
   "execution_count": 1,
   "metadata": {},
   "outputs": [],
   "source": [
    "# Import libraries\n",
    "import pandas as pd\n",
    "import matplotlib.pyplot as plt\n",
    "import numpy as np\n",
    "import seaborn as sns\n",
    "import missingno as msno\n",
    "import datetime as dt"
   ]
  },
  {
   "cell_type": "code",
   "execution_count": 2,
   "metadata": {},
   "outputs": [],
   "source": [
    "# Read in the datasetnet\n",
    "h1n1 = pd.read_csv(\"training_set_features.csv\", sep=\",\")\n",
    "features = pd.read_csv(\"features_explained.csv\", sep=\",\", names=['Feature','Explain','Measure'])\n"
   ]
  },
  {
   "cell_type": "code",
   "execution_count": 3,
   "metadata": {
    "tags": []
   },
   "outputs": [
    {
     "output_type": "stream",
     "name": "stdout",
     "text": "h1n1_concern                  :  Level of concern about the H1N1 flu.\nh1n1_knowledge                :  Level of knowledge about H1N1 flu.\nbehavioral_antiviral_meds     :  Has taken antiviral medications.\nbehavioral_avoidance          :  Has avoided close contact with others with flu like symptoms.\nbehavioral_face_mask          :  Has bought a face mask.\nbehavioral_wash_hands         :  Has frequently washed hands or used hand sanitizer.\nbehavioral_large_gatherings   :  Has reduced time at large gatherings.\nbehavioral_outside_home       :  Has reduced contact with people outside of own household.\nbehavioral_touch_face         :  Has avoided touching eyes, nose, or mouth.\ndoctor_recc_h1n1              :  H1N1 flu vaccine was recommended by doctor.\ndoctor_recc_seasonal          :  Seasonal flu vaccine was recommended by doctor.\nchronic_med_condition         :  Has any of the following chronic medical conditions\nchild_under_6_months          :  Has regular close contact with a child under the age of six months.\nhealth_worker                 :  Is a healthcare worker.\nhealth_insurance              :  Has health insurance.\nopinion_h1n1_vacc_effective   :  Respondent's opinion about H1N1 vaccine effectiveness.\nopinion_h1n1_risk             :  Respondent's opinion about risk of getting sick with H1N1 flu without vaccine.\nopinion_h1n1_sick_from_vacc   :  Respondent's worry of getting sick from taking H1N1 vaccine.\nopinion_seas_vacc_effective   :  Respondent's opinion about seasonal flu vaccine effectiveness.\nopinion_seas_risk             :  Respondent's opinion about risk of getting sick with seasonal flu without vaccine.\nopinion_seas_sick_from_vacc   :  Respondent's worry of getting sick from taking seasonal flu vaccine.\nage_group                     :  Age group of respondent.\neducation                     :  Self reported education level.\nrace                          :  Race of respondent.\nsex                           :  Sex of respondent.\nincome_poverty                :  Household annual income of respondent with respect to 2008 Census poverty thresholds.\nmarital_status                :  Marital status of respondent.\nrent_or_own                   :  Housing situation of respondent.\nemployment_status             :  Employment status of respondent.\nhhs_geo_region                :  Respondent's residence using a 10 region geographic classification defined by the U.S. Dept. of Health and Human Services. Values are represented as short random character strings.\ncensus_msa                    :  Respondent's residence within metropolitan statistical areas (MSA) as defined by the U.S. Census.\nhousehold_adults              :  Number of other adults in household, top\nhousehold_children            :  Number of children in household, top coded to 3.\nemployment_industry           :  Type of industry respondent is employed in. Values are represented as short random character strings.\nemployment_occupation         :  Type of occupation of respondent. Values are represented as short random character strings.\n"
    }
   ],
   "source": [
    "for sp in range(0, len(features)):\n",
    "    pattern = (28 - len(features['Feature'][sp])) * ' '\n",
    "    print(features['Feature'][sp], pattern, ':', features['Explain'][sp])"
   ]
  },
  {
   "cell_type": "code",
   "execution_count": 7,
   "metadata": {},
   "outputs": [
    {
     "output_type": "error",
     "ename": "ValueError",
     "evalue": "Cannot convert non-finite values (NA or inf) to integer",
     "traceback": [
      "\u001b[1;31m---------------------------------------------------------------------------\u001b[0m",
      "\u001b[1;31mValueError\u001b[0m                                Traceback (most recent call last)",
      "\u001b[1;32m<ipython-input-7-0a1d725c460f>\u001b[0m in \u001b[0;36m<module>\u001b[1;34m\u001b[0m\n\u001b[0;32m      1\u001b[0m \u001b[1;32mfor\u001b[0m \u001b[0msp\u001b[0m \u001b[1;32min\u001b[0m \u001b[0mrange\u001b[0m\u001b[1;33m(\u001b[0m\u001b[1;36m1\u001b[0m\u001b[1;33m,\u001b[0m\u001b[1;36m21\u001b[0m\u001b[1;33m)\u001b[0m\u001b[1;33m:\u001b[0m\u001b[1;33m\u001b[0m\u001b[1;33m\u001b[0m\u001b[0m\n\u001b[1;32m----> 2\u001b[1;33m     \u001b[0mh1n1\u001b[0m\u001b[1;33m.\u001b[0m\u001b[0miloc\u001b[0m\u001b[1;33m[\u001b[0m\u001b[1;33m:\u001b[0m\u001b[1;33m,\u001b[0m\u001b[0msp\u001b[0m\u001b[1;33m]\u001b[0m \u001b[1;33m=\u001b[0m \u001b[0mh1n1\u001b[0m\u001b[1;33m.\u001b[0m\u001b[0miloc\u001b[0m\u001b[1;33m[\u001b[0m\u001b[1;33m:\u001b[0m\u001b[1;33m,\u001b[0m\u001b[0msp\u001b[0m\u001b[1;33m]\u001b[0m\u001b[1;33m.\u001b[0m\u001b[0mastype\u001b[0m\u001b[1;33m(\u001b[0m\u001b[0mint\u001b[0m\u001b[1;33m)\u001b[0m\u001b[1;33m\u001b[0m\u001b[1;33m\u001b[0m\u001b[0m\n\u001b[0m\u001b[0;32m      3\u001b[0m \u001b[1;33m\u001b[0m\u001b[0m\n",
      "\u001b[1;32m~\\Anaconda3\\lib\\site-packages\\pandas\\core\\generic.py\u001b[0m in \u001b[0;36mastype\u001b[1;34m(self, dtype, copy, errors, **kwargs)\u001b[0m\n\u001b[0;32m   5880\u001b[0m             \u001b[1;31m# else, only a single dtype is given\u001b[0m\u001b[1;33m\u001b[0m\u001b[1;33m\u001b[0m\u001b[1;33m\u001b[0m\u001b[0m\n\u001b[0;32m   5881\u001b[0m             new_data = self._data.astype(\n\u001b[1;32m-> 5882\u001b[1;33m                 \u001b[0mdtype\u001b[0m\u001b[1;33m=\u001b[0m\u001b[0mdtype\u001b[0m\u001b[1;33m,\u001b[0m \u001b[0mcopy\u001b[0m\u001b[1;33m=\u001b[0m\u001b[0mcopy\u001b[0m\u001b[1;33m,\u001b[0m \u001b[0merrors\u001b[0m\u001b[1;33m=\u001b[0m\u001b[0merrors\u001b[0m\u001b[1;33m,\u001b[0m \u001b[1;33m**\u001b[0m\u001b[0mkwargs\u001b[0m\u001b[1;33m\u001b[0m\u001b[1;33m\u001b[0m\u001b[0m\n\u001b[0m\u001b[0;32m   5883\u001b[0m             )\n\u001b[0;32m   5884\u001b[0m             \u001b[1;32mreturn\u001b[0m \u001b[0mself\u001b[0m\u001b[1;33m.\u001b[0m\u001b[0m_constructor\u001b[0m\u001b[1;33m(\u001b[0m\u001b[0mnew_data\u001b[0m\u001b[1;33m)\u001b[0m\u001b[1;33m.\u001b[0m\u001b[0m__finalize__\u001b[0m\u001b[1;33m(\u001b[0m\u001b[0mself\u001b[0m\u001b[1;33m)\u001b[0m\u001b[1;33m\u001b[0m\u001b[1;33m\u001b[0m\u001b[0m\n",
      "\u001b[1;32m~\\Anaconda3\\lib\\site-packages\\pandas\\core\\internals\\managers.py\u001b[0m in \u001b[0;36mastype\u001b[1;34m(self, dtype, **kwargs)\u001b[0m\n\u001b[0;32m    579\u001b[0m \u001b[1;33m\u001b[0m\u001b[0m\n\u001b[0;32m    580\u001b[0m     \u001b[1;32mdef\u001b[0m \u001b[0mastype\u001b[0m\u001b[1;33m(\u001b[0m\u001b[0mself\u001b[0m\u001b[1;33m,\u001b[0m \u001b[0mdtype\u001b[0m\u001b[1;33m,\u001b[0m \u001b[1;33m**\u001b[0m\u001b[0mkwargs\u001b[0m\u001b[1;33m)\u001b[0m\u001b[1;33m:\u001b[0m\u001b[1;33m\u001b[0m\u001b[1;33m\u001b[0m\u001b[0m\n\u001b[1;32m--> 581\u001b[1;33m         \u001b[1;32mreturn\u001b[0m \u001b[0mself\u001b[0m\u001b[1;33m.\u001b[0m\u001b[0mapply\u001b[0m\u001b[1;33m(\u001b[0m\u001b[1;34m\"astype\"\u001b[0m\u001b[1;33m,\u001b[0m \u001b[0mdtype\u001b[0m\u001b[1;33m=\u001b[0m\u001b[0mdtype\u001b[0m\u001b[1;33m,\u001b[0m \u001b[1;33m**\u001b[0m\u001b[0mkwargs\u001b[0m\u001b[1;33m)\u001b[0m\u001b[1;33m\u001b[0m\u001b[1;33m\u001b[0m\u001b[0m\n\u001b[0m\u001b[0;32m    582\u001b[0m \u001b[1;33m\u001b[0m\u001b[0m\n\u001b[0;32m    583\u001b[0m     \u001b[1;32mdef\u001b[0m \u001b[0mconvert\u001b[0m\u001b[1;33m(\u001b[0m\u001b[0mself\u001b[0m\u001b[1;33m,\u001b[0m \u001b[1;33m**\u001b[0m\u001b[0mkwargs\u001b[0m\u001b[1;33m)\u001b[0m\u001b[1;33m:\u001b[0m\u001b[1;33m\u001b[0m\u001b[1;33m\u001b[0m\u001b[0m\n",
      "\u001b[1;32m~\\Anaconda3\\lib\\site-packages\\pandas\\core\\internals\\managers.py\u001b[0m in \u001b[0;36mapply\u001b[1;34m(self, f, axes, filter, do_integrity_check, consolidate, **kwargs)\u001b[0m\n\u001b[0;32m    436\u001b[0m                     \u001b[0mkwargs\u001b[0m\u001b[1;33m[\u001b[0m\u001b[0mk\u001b[0m\u001b[1;33m]\u001b[0m \u001b[1;33m=\u001b[0m \u001b[0mobj\u001b[0m\u001b[1;33m.\u001b[0m\u001b[0mreindex\u001b[0m\u001b[1;33m(\u001b[0m\u001b[0mb_items\u001b[0m\u001b[1;33m,\u001b[0m \u001b[0maxis\u001b[0m\u001b[1;33m=\u001b[0m\u001b[0maxis\u001b[0m\u001b[1;33m,\u001b[0m \u001b[0mcopy\u001b[0m\u001b[1;33m=\u001b[0m\u001b[0malign_copy\u001b[0m\u001b[1;33m)\u001b[0m\u001b[1;33m\u001b[0m\u001b[1;33m\u001b[0m\u001b[0m\n\u001b[0;32m    437\u001b[0m \u001b[1;33m\u001b[0m\u001b[0m\n\u001b[1;32m--> 438\u001b[1;33m             \u001b[0mapplied\u001b[0m \u001b[1;33m=\u001b[0m \u001b[0mgetattr\u001b[0m\u001b[1;33m(\u001b[0m\u001b[0mb\u001b[0m\u001b[1;33m,\u001b[0m \u001b[0mf\u001b[0m\u001b[1;33m)\u001b[0m\u001b[1;33m(\u001b[0m\u001b[1;33m**\u001b[0m\u001b[0mkwargs\u001b[0m\u001b[1;33m)\u001b[0m\u001b[1;33m\u001b[0m\u001b[1;33m\u001b[0m\u001b[0m\n\u001b[0m\u001b[0;32m    439\u001b[0m             \u001b[0mresult_blocks\u001b[0m \u001b[1;33m=\u001b[0m \u001b[0m_extend_blocks\u001b[0m\u001b[1;33m(\u001b[0m\u001b[0mapplied\u001b[0m\u001b[1;33m,\u001b[0m \u001b[0mresult_blocks\u001b[0m\u001b[1;33m)\u001b[0m\u001b[1;33m\u001b[0m\u001b[1;33m\u001b[0m\u001b[0m\n\u001b[0;32m    440\u001b[0m \u001b[1;33m\u001b[0m\u001b[0m\n",
      "\u001b[1;32m~\\Anaconda3\\lib\\site-packages\\pandas\\core\\internals\\blocks.py\u001b[0m in \u001b[0;36mastype\u001b[1;34m(self, dtype, copy, errors, values, **kwargs)\u001b[0m\n\u001b[0;32m    557\u001b[0m \u001b[1;33m\u001b[0m\u001b[0m\n\u001b[0;32m    558\u001b[0m     \u001b[1;32mdef\u001b[0m \u001b[0mastype\u001b[0m\u001b[1;33m(\u001b[0m\u001b[0mself\u001b[0m\u001b[1;33m,\u001b[0m \u001b[0mdtype\u001b[0m\u001b[1;33m,\u001b[0m \u001b[0mcopy\u001b[0m\u001b[1;33m=\u001b[0m\u001b[1;32mFalse\u001b[0m\u001b[1;33m,\u001b[0m \u001b[0merrors\u001b[0m\u001b[1;33m=\u001b[0m\u001b[1;34m\"raise\"\u001b[0m\u001b[1;33m,\u001b[0m \u001b[0mvalues\u001b[0m\u001b[1;33m=\u001b[0m\u001b[1;32mNone\u001b[0m\u001b[1;33m,\u001b[0m \u001b[1;33m**\u001b[0m\u001b[0mkwargs\u001b[0m\u001b[1;33m)\u001b[0m\u001b[1;33m:\u001b[0m\u001b[1;33m\u001b[0m\u001b[1;33m\u001b[0m\u001b[0m\n\u001b[1;32m--> 559\u001b[1;33m         \u001b[1;32mreturn\u001b[0m \u001b[0mself\u001b[0m\u001b[1;33m.\u001b[0m\u001b[0m_astype\u001b[0m\u001b[1;33m(\u001b[0m\u001b[0mdtype\u001b[0m\u001b[1;33m,\u001b[0m \u001b[0mcopy\u001b[0m\u001b[1;33m=\u001b[0m\u001b[0mcopy\u001b[0m\u001b[1;33m,\u001b[0m \u001b[0merrors\u001b[0m\u001b[1;33m=\u001b[0m\u001b[0merrors\u001b[0m\u001b[1;33m,\u001b[0m \u001b[0mvalues\u001b[0m\u001b[1;33m=\u001b[0m\u001b[0mvalues\u001b[0m\u001b[1;33m,\u001b[0m \u001b[1;33m**\u001b[0m\u001b[0mkwargs\u001b[0m\u001b[1;33m)\u001b[0m\u001b[1;33m\u001b[0m\u001b[1;33m\u001b[0m\u001b[0m\n\u001b[0m\u001b[0;32m    560\u001b[0m \u001b[1;33m\u001b[0m\u001b[0m\n\u001b[0;32m    561\u001b[0m     \u001b[1;32mdef\u001b[0m \u001b[0m_astype\u001b[0m\u001b[1;33m(\u001b[0m\u001b[0mself\u001b[0m\u001b[1;33m,\u001b[0m \u001b[0mdtype\u001b[0m\u001b[1;33m,\u001b[0m \u001b[0mcopy\u001b[0m\u001b[1;33m=\u001b[0m\u001b[1;32mFalse\u001b[0m\u001b[1;33m,\u001b[0m \u001b[0merrors\u001b[0m\u001b[1;33m=\u001b[0m\u001b[1;34m\"raise\"\u001b[0m\u001b[1;33m,\u001b[0m \u001b[0mvalues\u001b[0m\u001b[1;33m=\u001b[0m\u001b[1;32mNone\u001b[0m\u001b[1;33m,\u001b[0m \u001b[1;33m**\u001b[0m\u001b[0mkwargs\u001b[0m\u001b[1;33m)\u001b[0m\u001b[1;33m:\u001b[0m\u001b[1;33m\u001b[0m\u001b[1;33m\u001b[0m\u001b[0m\n",
      "\u001b[1;32m~\\Anaconda3\\lib\\site-packages\\pandas\\core\\internals\\blocks.py\u001b[0m in \u001b[0;36m_astype\u001b[1;34m(self, dtype, copy, errors, values, **kwargs)\u001b[0m\n\u001b[0;32m    641\u001b[0m                     \u001b[1;31m# _astype_nansafe works fine with 1-d only\u001b[0m\u001b[1;33m\u001b[0m\u001b[1;33m\u001b[0m\u001b[1;33m\u001b[0m\u001b[0m\n\u001b[0;32m    642\u001b[0m                     \u001b[0mvals1d\u001b[0m \u001b[1;33m=\u001b[0m \u001b[0mvalues\u001b[0m\u001b[1;33m.\u001b[0m\u001b[0mravel\u001b[0m\u001b[1;33m(\u001b[0m\u001b[1;33m)\u001b[0m\u001b[1;33m\u001b[0m\u001b[1;33m\u001b[0m\u001b[0m\n\u001b[1;32m--> 643\u001b[1;33m                     \u001b[0mvalues\u001b[0m \u001b[1;33m=\u001b[0m \u001b[0mastype_nansafe\u001b[0m\u001b[1;33m(\u001b[0m\u001b[0mvals1d\u001b[0m\u001b[1;33m,\u001b[0m \u001b[0mdtype\u001b[0m\u001b[1;33m,\u001b[0m \u001b[0mcopy\u001b[0m\u001b[1;33m=\u001b[0m\u001b[1;32mTrue\u001b[0m\u001b[1;33m,\u001b[0m \u001b[1;33m**\u001b[0m\u001b[0mkwargs\u001b[0m\u001b[1;33m)\u001b[0m\u001b[1;33m\u001b[0m\u001b[1;33m\u001b[0m\u001b[0m\n\u001b[0m\u001b[0;32m    644\u001b[0m \u001b[1;33m\u001b[0m\u001b[0m\n\u001b[0;32m    645\u001b[0m                 \u001b[1;31m# TODO(extension)\u001b[0m\u001b[1;33m\u001b[0m\u001b[1;33m\u001b[0m\u001b[1;33m\u001b[0m\u001b[0m\n",
      "\u001b[1;32m~\\Anaconda3\\lib\\site-packages\\pandas\\core\\dtypes\\cast.py\u001b[0m in \u001b[0;36mastype_nansafe\u001b[1;34m(arr, dtype, copy, skipna)\u001b[0m\n\u001b[0;32m    698\u001b[0m         \u001b[1;32mif\u001b[0m \u001b[1;32mnot\u001b[0m \u001b[0mnp\u001b[0m\u001b[1;33m.\u001b[0m\u001b[0misfinite\u001b[0m\u001b[1;33m(\u001b[0m\u001b[0marr\u001b[0m\u001b[1;33m)\u001b[0m\u001b[1;33m.\u001b[0m\u001b[0mall\u001b[0m\u001b[1;33m(\u001b[0m\u001b[1;33m)\u001b[0m\u001b[1;33m:\u001b[0m\u001b[1;33m\u001b[0m\u001b[1;33m\u001b[0m\u001b[0m\n\u001b[0;32m    699\u001b[0m             raise ValueError(\n\u001b[1;32m--> 700\u001b[1;33m                 \u001b[1;34m\"Cannot convert non-finite values (NA or inf) to \"\u001b[0m \u001b[1;34m\"integer\"\u001b[0m\u001b[1;33m\u001b[0m\u001b[1;33m\u001b[0m\u001b[0m\n\u001b[0m\u001b[0;32m    701\u001b[0m             )\n\u001b[0;32m    702\u001b[0m \u001b[1;33m\u001b[0m\u001b[0m\n",
      "\u001b[1;31mValueError\u001b[0m: Cannot convert non-finite values (NA or inf) to integer"
     ]
    }
   ],
   "source": [
    "for sp in range(1,21):\n",
    "    h1n1.iloc[:,sp] = h1n1.iloc[:,sp].astype(str)\n",
    "    h1n1.iloc[:,sp] = h1n1.iloc[:,sp].str.replace(\".0\", \"\")\n"
   ]
  },
  {
   "cell_type": "code",
   "execution_count": 8,
   "metadata": {},
   "outputs": [
    {
     "output_type": "execute_result",
     "data": {
      "text/plain": "respondent_id                      0\nh1n1_concern                      92\nh1n1_knowledge                   116\nbehavioral_antiviral_meds         71\nbehavioral_avoidance             208\nbehavioral_face_mask              19\nbehavioral_wash_hands             42\nbehavioral_large_gatherings       87\nbehavioral_outside_home           82\nbehavioral_touch_face            128\ndoctor_recc_h1n1                2160\ndoctor_recc_seasonal            2160\nchronic_med_condition            971\nchild_under_6_months             820\nhealth_worker                    804\nhealth_insurance               12274\nopinion_h1n1_vacc_effective      391\nopinion_h1n1_risk                388\nopinion_h1n1_sick_from_vacc      395\nopinion_seas_vacc_effective      462\nopinion_seas_risk                514\nopinion_seas_sick_from_vacc      537\nage_group                          0\neducation                       1407\nrace                               0\nsex                                0\nincome_poverty                  4423\nmarital_status                  1408\nrent_or_own                     2042\nemployment_status               1463\nhhs_geo_region                     0\ncensus_msa                         0\nhousehold_adults                 249\nhousehold_children               249\nemployment_industry            13330\nemployment_occupation          13470\ndtype: int64"
     },
     "metadata": {},
     "execution_count": 8
    }
   ],
   "source": [
    "h1n1.isna().sum()"
   ]
  },
  {
   "cell_type": "code",
   "execution_count": 10,
   "metadata": {
    "tags": []
   },
   "outputs": [
    {
     "output_type": "execute_result",
     "data": {
      "text/plain": "   index  health_insurance\n0    1.0             12697\n1    0.0              1736",
      "text/html": "<div>\n<style scoped>\n    .dataframe tbody tr th:only-of-type {\n        vertical-align: middle;\n    }\n\n    .dataframe tbody tr th {\n        vertical-align: top;\n    }\n\n    .dataframe thead th {\n        text-align: right;\n    }\n</style>\n<table border=\"1\" class=\"dataframe\">\n  <thead>\n    <tr style=\"text-align: right;\">\n      <th></th>\n      <th>index</th>\n      <th>health_insurance</th>\n    </tr>\n  </thead>\n  <tbody>\n    <tr>\n      <td>0</td>\n      <td>1.0</td>\n      <td>12697</td>\n    </tr>\n    <tr>\n      <td>1</td>\n      <td>0.0</td>\n      <td>1736</td>\n    </tr>\n  </tbody>\n</table>\n</div>"
     },
     "metadata": {},
     "execution_count": 10
    }
   ],
   "source": [
    "h1n1.health_insurance\n",
    "pd.value_counts(h1n1.health_insurance).to_frame().reset_index()"
   ]
  },
  {
   "cell_type": "code",
   "execution_count": 16,
   "metadata": {},
   "outputs": [],
   "source": [
    "h1n1[\"h1n1_concern\"] = h1n1[\"h1n1_concern\"].str.replace(\"nan\", \"2\")"
   ]
  },
  {
   "cell_type": "code",
   "execution_count": 17,
   "metadata": {
    "tags": []
   },
   "outputs": [
    {
     "output_type": "execute_result",
     "data": {
      "text/plain": "  index  h1n1_concern\n0     2         10667\n1     1          8153\n2     3          4591\n3     0          3296",
      "text/html": "<div>\n<style scoped>\n    .dataframe tbody tr th:only-of-type {\n        vertical-align: middle;\n    }\n\n    .dataframe tbody tr th {\n        vertical-align: top;\n    }\n\n    .dataframe thead th {\n        text-align: right;\n    }\n</style>\n<table border=\"1\" class=\"dataframe\">\n  <thead>\n    <tr style=\"text-align: right;\">\n      <th></th>\n      <th>index</th>\n      <th>h1n1_concern</th>\n    </tr>\n  </thead>\n  <tbody>\n    <tr>\n      <td>0</td>\n      <td>2</td>\n      <td>10667</td>\n    </tr>\n    <tr>\n      <td>1</td>\n      <td>1</td>\n      <td>8153</td>\n    </tr>\n    <tr>\n      <td>2</td>\n      <td>3</td>\n      <td>4591</td>\n    </tr>\n    <tr>\n      <td>3</td>\n      <td>0</td>\n      <td>3296</td>\n    </tr>\n  </tbody>\n</table>\n</div>"
     },
     "metadata": {},
     "execution_count": 17
    }
   ],
   "source": [
    "frecuency_table_h1n1_concern = pd.value_counts(h1n1.h1n1_concern).to_frame().reset_index()\n",
    "frecuency_table_h1n1_concern"
   ]
  },
  {
   "cell_type": "code",
   "execution_count": 8,
   "metadata": {
    "tags": []
   },
   "outputs": [
    {
     "output_type": "execute_result",
     "data": {
      "text/plain": "  index  h1n1_knowledge\n0     1           14598\n1     2            9487\n2     0            2506\n3   nan             116",
      "text/html": "<div>\n<style scoped>\n    .dataframe tbody tr th:only-of-type {\n        vertical-align: middle;\n    }\n\n    .dataframe tbody tr th {\n        vertical-align: top;\n    }\n\n    .dataframe thead th {\n        text-align: right;\n    }\n</style>\n<table border=\"1\" class=\"dataframe\">\n  <thead>\n    <tr style=\"text-align: right;\">\n      <th></th>\n      <th>index</th>\n      <th>h1n1_knowledge</th>\n    </tr>\n  </thead>\n  <tbody>\n    <tr>\n      <td>0</td>\n      <td>1</td>\n      <td>14598</td>\n    </tr>\n    <tr>\n      <td>1</td>\n      <td>2</td>\n      <td>9487</td>\n    </tr>\n    <tr>\n      <td>2</td>\n      <td>0</td>\n      <td>2506</td>\n    </tr>\n    <tr>\n      <td>3</td>\n      <td>nan</td>\n      <td>116</td>\n    </tr>\n  </tbody>\n</table>\n</div>"
     },
     "metadata": {},
     "execution_count": 8
    }
   ],
   "source": [
    "frecuency_table_h1n1_knowledge = pd.value_counts(h1n1.h1n1_knowledge).to_frame().reset_index()\n",
    "frecuency_table_h1n1_knowledge"
   ]
  },
  {
   "cell_type": "code",
   "execution_count": 9,
   "metadata": {
    "tags": []
   },
   "outputs": [],
   "source": [
    "h1n1[\"h1n1_knowledge\"] = h1n1[\"h1n1_knowledge\"].str.replace(\"nan\", \"1\")"
   ]
  },
  {
   "cell_type": "code",
   "execution_count": 10,
   "metadata": {
    "tags": []
   },
   "outputs": [
    {
     "output_type": "execute_result",
     "data": {
      "text/plain": "  index  h1n1_knowledge\n0     1           14714\n1     2            9487\n2     0            2506",
      "text/html": "<div>\n<style scoped>\n    .dataframe tbody tr th:only-of-type {\n        vertical-align: middle;\n    }\n\n    .dataframe tbody tr th {\n        vertical-align: top;\n    }\n\n    .dataframe thead th {\n        text-align: right;\n    }\n</style>\n<table border=\"1\" class=\"dataframe\">\n  <thead>\n    <tr style=\"text-align: right;\">\n      <th></th>\n      <th>index</th>\n      <th>h1n1_knowledge</th>\n    </tr>\n  </thead>\n  <tbody>\n    <tr>\n      <td>0</td>\n      <td>1</td>\n      <td>14714</td>\n    </tr>\n    <tr>\n      <td>1</td>\n      <td>2</td>\n      <td>9487</td>\n    </tr>\n    <tr>\n      <td>2</td>\n      <td>0</td>\n      <td>2506</td>\n    </tr>\n  </tbody>\n</table>\n</div>"
     },
     "metadata": {},
     "execution_count": 10
    }
   ],
   "source": [
    "frecuency_table_h1n1_knowledge = pd.value_counts(h1n1.h1n1_knowledge).to_frame().reset_index()\n",
    "frecuency_table_h1n1_knowledge"
   ]
  },
  {
   "cell_type": "code",
   "execution_count": 14,
   "metadata": {},
   "outputs": [
    {
     "output_type": "execute_result",
     "data": {
      "text/plain": "   index  behavioral_antiviral_meds\n0  False                      25335\n1   True                       1372",
      "text/html": "<div>\n<style scoped>\n    .dataframe tbody tr th:only-of-type {\n        vertical-align: middle;\n    }\n\n    .dataframe tbody tr th {\n        vertical-align: top;\n    }\n\n    .dataframe thead th {\n        text-align: right;\n    }\n</style>\n<table border=\"1\" class=\"dataframe\">\n  <thead>\n    <tr style=\"text-align: right;\">\n      <th></th>\n      <th>index</th>\n      <th>behavioral_antiviral_meds</th>\n    </tr>\n  </thead>\n  <tbody>\n    <tr>\n      <td>0</td>\n      <td>False</td>\n      <td>25335</td>\n    </tr>\n    <tr>\n      <td>1</td>\n      <td>True</td>\n      <td>1372</td>\n    </tr>\n  </tbody>\n</table>\n</div>"
     },
     "metadata": {},
     "execution_count": 14
    }
   ],
   "source": [
    "frecuency_table_behavioral_antiviral_meds = pd.value_counts(h1n1.behavioral_antiviral_meds).to_frame().reset_index()\n",
    "frecuency_table_behavioral_antiviral_meds"
   ]
  },
  {
   "cell_type": "code",
   "execution_count": 27,
   "metadata": {},
   "outputs": [
    {
     "output_type": "execute_result",
     "data": {
      "text/plain": "0        True\n1        True\n2        True\n3        True\n4        True\n         ... \n26702    True\n26703    True\n26704    True\n26705    True\n26706    True\nName: behavioral_avoidance, Length: 26707, dtype: bool"
     },
     "metadata": {},
     "execution_count": 27
    }
   ],
   "source": []
  },
  {
   "cell_type": "code",
   "execution_count": 30,
   "metadata": {},
   "outputs": [
    {
     "output_type": "execute_result",
     "data": {
      "text/plain": "    respondent_id h1n1_concern h1n1_knowledge  behavioral_antiviral_meds  \\\n0               0            1              0                      False   \n1               1            3              2                      False   \n2               2            1              1                      False   \n3               3            1              1                      False   \n4               4            2              1                      False   \n5               5            3              1                      False   \n6               6            0              0                      False   \n7               7            1              0                      False   \n8               8            0              2                      False   \n9               9            2              1                      False   \n10             10            2              1                      False   \n11             11            1              2                      False   \n12             12            1              1                      False   \n13             13            1              1                      False   \n14             14            3              1                      False   \n15             15            1              1                      False   \n16             16            2              1                      False   \n17             17            1              1                      False   \n18             18            1              2                      False   \n19             19            2              2                      False   \n20             20            3              1                      False   \n\n    behavioral_avoidance  behavioral_face_mask  behavioral_wash_hands  \\\n0                   True                   0.0                    0.0   \n1                   True                   0.0                    1.0   \n2                   True                   0.0                    0.0   \n3                   True                   0.0                    1.0   \n4                   True                   0.0                    1.0   \n5                   True                   0.0                    1.0   \n6                   True                   0.0                    0.0   \n7                   True                   0.0                    1.0   \n8                   True                   0.0                    1.0   \n9                   True                   0.0                    0.0   \n10                  True                   0.0                    1.0   \n11                  True                   0.0                    1.0   \n12                  True                   0.0                    1.0   \n13                  True                   0.0                    1.0   \n14                  True                   0.0                    1.0   \n15                  True                   0.0                    0.0   \n16                  True                   0.0                    1.0   \n17                  True                   0.0                    1.0   \n18                  True                   0.0                    1.0   \n19                  True                   0.0                    1.0   \n20                  True                   1.0                    1.0   \n\n    behavioral_large_gatherings  behavioral_outside_home  \\\n0                           0.0                      1.0   \n1                           0.0                      1.0   \n2                           0.0                      0.0   \n3                           1.0                      0.0   \n4                           1.0                      0.0   \n5                           0.0                      0.0   \n6                           0.0                      0.0   \n7                           0.0                      0.0   \n8                           1.0                      1.0   \n9                           1.0                      0.0   \n10                          1.0                      0.0   \n11                          0.0                      0.0   \n12                          1.0                      0.0   \n13                          0.0                      0.0   \n14                          0.0                      1.0   \n15                          0.0                      0.0   \n16                          1.0                      1.0   \n17                          1.0                      0.0   \n18                          0.0                      0.0   \n19                          0.0                      1.0   \n20                          1.0                      1.0   \n\n    behavioral_touch_face  ...             income_poverty  marital_status  \\\n0                     1.0  ...              Below Poverty     Not Married   \n1                     1.0  ...              Below Poverty     Not Married   \n2                     0.0  ...  <= $75,000, Above Poverty     Not Married   \n3                     0.0  ...              Below Poverty     Not Married   \n4                     1.0  ...  <= $75,000, Above Poverty         Married   \n5                     1.0  ...  <= $75,000, Above Poverty         Married   \n6                     0.0  ...  <= $75,000, Above Poverty     Not Married   \n7                     1.0  ...  <= $75,000, Above Poverty         Married   \n8                     1.0  ...                  > $75,000         Married   \n9                     1.0  ...  <= $75,000, Above Poverty     Not Married   \n10                    0.0  ...  <= $75,000, Above Poverty         Married   \n11                    0.0  ...                  > $75,000         Married   \n12                    1.0  ...  <= $75,000, Above Poverty         Married   \n13                    1.0  ...                  > $75,000         Married   \n14                    1.0  ...  <= $75,000, Above Poverty         Married   \n15                    0.0  ...                  > $75,000         Married   \n16                    1.0  ...  <= $75,000, Above Poverty         Married   \n17                    1.0  ...  <= $75,000, Above Poverty     Not Married   \n18                    1.0  ...                  > $75,000         Married   \n19                    1.0  ...  <= $75,000, Above Poverty         Married   \n20                    1.0  ...  <= $75,000, Above Poverty     Not Married   \n\n    rent_or_own   employment_status  hhs_geo_region                census_msa  \\\n0           Own  Not in Labor Force        oxchjgsf                   Non-MSA   \n1          Rent            Employed        bhuqouqj  MSA, Not Principle  City   \n2           Own            Employed        qufhixun  MSA, Not Principle  City   \n3          Rent  Not in Labor Force        lrircsnp       MSA, Principle City   \n4           Own            Employed        qufhixun  MSA, Not Principle  City   \n5           Own            Employed        atmpeygn       MSA, Principle City   \n6           Own            Employed        qufhixun  MSA, Not Principle  City   \n7           Own            Employed        bhuqouqj                   Non-MSA   \n8           Own            Employed        bhuqouqj  MSA, Not Principle  City   \n9           Own  Not in Labor Force        qufhixun  MSA, Not Principle  City   \n10         Rent            Employed        lzgpxyit  MSA, Not Principle  City   \n11          Own            Employed        oxchjgsf                   Non-MSA   \n12          Own  Not in Labor Force        lzgpxyit  MSA, Not Principle  City   \n13          Own            Employed        lzgpxyit  MSA, Not Principle  City   \n14          Own  Not in Labor Force        qufhixun  MSA, Not Principle  City   \n15          Own            Employed        lzgpxyit  MSA, Not Principle  City   \n16          NaN  Not in Labor Force        oxchjgsf       MSA, Principle City   \n17          Own            Employed        lzgpxyit  MSA, Not Principle  City   \n18          Own            Employed        oxchjgsf                   Non-MSA   \n19          Own  Not in Labor Force        lzgpxyit  MSA, Not Principle  City   \n20         Rent  Not in Labor Force        qufhixun       MSA, Principle City   \n\n    household_adults  household_children  employment_industry  \\\n0                0.0                 0.0                  NaN   \n1                0.0                 0.0             pxcmvdjn   \n2                2.0                 0.0             rucpziij   \n3                0.0                 0.0                  NaN   \n4                1.0                 0.0             wxleyezf   \n5                2.0                 3.0             saaquncn   \n6                0.0                 0.0             xicduogh   \n7                2.0                 0.0             pxcmvdjn   \n8                1.0                 0.0             xicduogh   \n9                0.0                 0.0                  NaN   \n10               2.0                 0.0             xicduogh   \n11               1.0                 2.0             xicduogh   \n12               1.0                 0.0                  NaN   \n13               1.0                 2.0             ldnlellj   \n14               1.0                 0.0                  NaN   \n15               1.0                 3.0             wxleyezf   \n16               0.0                 0.0                  NaN   \n17               1.0                 0.0             rucpziij   \n18               2.0                 0.0             wlfvacwt   \n19               1.0                 0.0                  NaN   \n20               0.0                 0.0                  NaN   \n\n    employment_occupation  \n0                     NaN  \n1                xgwztkwe  \n2                xtkaffoo  \n3                     NaN  \n4                emcorrxb  \n5                vlluhbov  \n6                xtkaffoo  \n7                xqwwgdyp  \n8                ccgxvspp  \n9                     NaN  \n10               qxajmpny  \n11               ccgxvspp  \n12                    NaN  \n13               kldqjyjy  \n14                    NaN  \n15               emcorrxb  \n16                    NaN  \n17               xtkaffoo  \n18               xgwztkwe  \n19                    NaN  \n20                    NaN  \n\n[21 rows x 36 columns]",
      "text/html": "<div>\n<style scoped>\n    .dataframe tbody tr th:only-of-type {\n        vertical-align: middle;\n    }\n\n    .dataframe tbody tr th {\n        vertical-align: top;\n    }\n\n    .dataframe thead th {\n        text-align: right;\n    }\n</style>\n<table border=\"1\" class=\"dataframe\">\n  <thead>\n    <tr style=\"text-align: right;\">\n      <th></th>\n      <th>respondent_id</th>\n      <th>h1n1_concern</th>\n      <th>h1n1_knowledge</th>\n      <th>behavioral_antiviral_meds</th>\n      <th>behavioral_avoidance</th>\n      <th>behavioral_face_mask</th>\n      <th>behavioral_wash_hands</th>\n      <th>behavioral_large_gatherings</th>\n      <th>behavioral_outside_home</th>\n      <th>behavioral_touch_face</th>\n      <th>...</th>\n      <th>income_poverty</th>\n      <th>marital_status</th>\n      <th>rent_or_own</th>\n      <th>employment_status</th>\n      <th>hhs_geo_region</th>\n      <th>census_msa</th>\n      <th>household_adults</th>\n      <th>household_children</th>\n      <th>employment_industry</th>\n      <th>employment_occupation</th>\n    </tr>\n  </thead>\n  <tbody>\n    <tr>\n      <td>0</td>\n      <td>0</td>\n      <td>1</td>\n      <td>0</td>\n      <td>False</td>\n      <td>True</td>\n      <td>0.0</td>\n      <td>0.0</td>\n      <td>0.0</td>\n      <td>1.0</td>\n      <td>1.0</td>\n      <td>...</td>\n      <td>Below Poverty</td>\n      <td>Not Married</td>\n      <td>Own</td>\n      <td>Not in Labor Force</td>\n      <td>oxchjgsf</td>\n      <td>Non-MSA</td>\n      <td>0.0</td>\n      <td>0.0</td>\n      <td>NaN</td>\n      <td>NaN</td>\n    </tr>\n    <tr>\n      <td>1</td>\n      <td>1</td>\n      <td>3</td>\n      <td>2</td>\n      <td>False</td>\n      <td>True</td>\n      <td>0.0</td>\n      <td>1.0</td>\n      <td>0.0</td>\n      <td>1.0</td>\n      <td>1.0</td>\n      <td>...</td>\n      <td>Below Poverty</td>\n      <td>Not Married</td>\n      <td>Rent</td>\n      <td>Employed</td>\n      <td>bhuqouqj</td>\n      <td>MSA, Not Principle  City</td>\n      <td>0.0</td>\n      <td>0.0</td>\n      <td>pxcmvdjn</td>\n      <td>xgwztkwe</td>\n    </tr>\n    <tr>\n      <td>2</td>\n      <td>2</td>\n      <td>1</td>\n      <td>1</td>\n      <td>False</td>\n      <td>True</td>\n      <td>0.0</td>\n      <td>0.0</td>\n      <td>0.0</td>\n      <td>0.0</td>\n      <td>0.0</td>\n      <td>...</td>\n      <td>&lt;= $75,000, Above Poverty</td>\n      <td>Not Married</td>\n      <td>Own</td>\n      <td>Employed</td>\n      <td>qufhixun</td>\n      <td>MSA, Not Principle  City</td>\n      <td>2.0</td>\n      <td>0.0</td>\n      <td>rucpziij</td>\n      <td>xtkaffoo</td>\n    </tr>\n    <tr>\n      <td>3</td>\n      <td>3</td>\n      <td>1</td>\n      <td>1</td>\n      <td>False</td>\n      <td>True</td>\n      <td>0.0</td>\n      <td>1.0</td>\n      <td>1.0</td>\n      <td>0.0</td>\n      <td>0.0</td>\n      <td>...</td>\n      <td>Below Poverty</td>\n      <td>Not Married</td>\n      <td>Rent</td>\n      <td>Not in Labor Force</td>\n      <td>lrircsnp</td>\n      <td>MSA, Principle City</td>\n      <td>0.0</td>\n      <td>0.0</td>\n      <td>NaN</td>\n      <td>NaN</td>\n    </tr>\n    <tr>\n      <td>4</td>\n      <td>4</td>\n      <td>2</td>\n      <td>1</td>\n      <td>False</td>\n      <td>True</td>\n      <td>0.0</td>\n      <td>1.0</td>\n      <td>1.0</td>\n      <td>0.0</td>\n      <td>1.0</td>\n      <td>...</td>\n      <td>&lt;= $75,000, Above Poverty</td>\n      <td>Married</td>\n      <td>Own</td>\n      <td>Employed</td>\n      <td>qufhixun</td>\n      <td>MSA, Not Principle  City</td>\n      <td>1.0</td>\n      <td>0.0</td>\n      <td>wxleyezf</td>\n      <td>emcorrxb</td>\n    </tr>\n    <tr>\n      <td>5</td>\n      <td>5</td>\n      <td>3</td>\n      <td>1</td>\n      <td>False</td>\n      <td>True</td>\n      <td>0.0</td>\n      <td>1.0</td>\n      <td>0.0</td>\n      <td>0.0</td>\n      <td>1.0</td>\n      <td>...</td>\n      <td>&lt;= $75,000, Above Poverty</td>\n      <td>Married</td>\n      <td>Own</td>\n      <td>Employed</td>\n      <td>atmpeygn</td>\n      <td>MSA, Principle City</td>\n      <td>2.0</td>\n      <td>3.0</td>\n      <td>saaquncn</td>\n      <td>vlluhbov</td>\n    </tr>\n    <tr>\n      <td>6</td>\n      <td>6</td>\n      <td>0</td>\n      <td>0</td>\n      <td>False</td>\n      <td>True</td>\n      <td>0.0</td>\n      <td>0.0</td>\n      <td>0.0</td>\n      <td>0.0</td>\n      <td>0.0</td>\n      <td>...</td>\n      <td>&lt;= $75,000, Above Poverty</td>\n      <td>Not Married</td>\n      <td>Own</td>\n      <td>Employed</td>\n      <td>qufhixun</td>\n      <td>MSA, Not Principle  City</td>\n      <td>0.0</td>\n      <td>0.0</td>\n      <td>xicduogh</td>\n      <td>xtkaffoo</td>\n    </tr>\n    <tr>\n      <td>7</td>\n      <td>7</td>\n      <td>1</td>\n      <td>0</td>\n      <td>False</td>\n      <td>True</td>\n      <td>0.0</td>\n      <td>1.0</td>\n      <td>0.0</td>\n      <td>0.0</td>\n      <td>1.0</td>\n      <td>...</td>\n      <td>&lt;= $75,000, Above Poverty</td>\n      <td>Married</td>\n      <td>Own</td>\n      <td>Employed</td>\n      <td>bhuqouqj</td>\n      <td>Non-MSA</td>\n      <td>2.0</td>\n      <td>0.0</td>\n      <td>pxcmvdjn</td>\n      <td>xqwwgdyp</td>\n    </tr>\n    <tr>\n      <td>8</td>\n      <td>8</td>\n      <td>0</td>\n      <td>2</td>\n      <td>False</td>\n      <td>True</td>\n      <td>0.0</td>\n      <td>1.0</td>\n      <td>1.0</td>\n      <td>1.0</td>\n      <td>1.0</td>\n      <td>...</td>\n      <td>&gt; $75,000</td>\n      <td>Married</td>\n      <td>Own</td>\n      <td>Employed</td>\n      <td>bhuqouqj</td>\n      <td>MSA, Not Principle  City</td>\n      <td>1.0</td>\n      <td>0.0</td>\n      <td>xicduogh</td>\n      <td>ccgxvspp</td>\n    </tr>\n    <tr>\n      <td>9</td>\n      <td>9</td>\n      <td>2</td>\n      <td>1</td>\n      <td>False</td>\n      <td>True</td>\n      <td>0.0</td>\n      <td>0.0</td>\n      <td>1.0</td>\n      <td>0.0</td>\n      <td>1.0</td>\n      <td>...</td>\n      <td>&lt;= $75,000, Above Poverty</td>\n      <td>Not Married</td>\n      <td>Own</td>\n      <td>Not in Labor Force</td>\n      <td>qufhixun</td>\n      <td>MSA, Not Principle  City</td>\n      <td>0.0</td>\n      <td>0.0</td>\n      <td>NaN</td>\n      <td>NaN</td>\n    </tr>\n    <tr>\n      <td>10</td>\n      <td>10</td>\n      <td>2</td>\n      <td>1</td>\n      <td>False</td>\n      <td>True</td>\n      <td>0.0</td>\n      <td>1.0</td>\n      <td>1.0</td>\n      <td>0.0</td>\n      <td>0.0</td>\n      <td>...</td>\n      <td>&lt;= $75,000, Above Poverty</td>\n      <td>Married</td>\n      <td>Rent</td>\n      <td>Employed</td>\n      <td>lzgpxyit</td>\n      <td>MSA, Not Principle  City</td>\n      <td>2.0</td>\n      <td>0.0</td>\n      <td>xicduogh</td>\n      <td>qxajmpny</td>\n    </tr>\n    <tr>\n      <td>11</td>\n      <td>11</td>\n      <td>1</td>\n      <td>2</td>\n      <td>False</td>\n      <td>True</td>\n      <td>0.0</td>\n      <td>1.0</td>\n      <td>0.0</td>\n      <td>0.0</td>\n      <td>0.0</td>\n      <td>...</td>\n      <td>&gt; $75,000</td>\n      <td>Married</td>\n      <td>Own</td>\n      <td>Employed</td>\n      <td>oxchjgsf</td>\n      <td>Non-MSA</td>\n      <td>1.0</td>\n      <td>2.0</td>\n      <td>xicduogh</td>\n      <td>ccgxvspp</td>\n    </tr>\n    <tr>\n      <td>12</td>\n      <td>12</td>\n      <td>1</td>\n      <td>1</td>\n      <td>False</td>\n      <td>True</td>\n      <td>0.0</td>\n      <td>1.0</td>\n      <td>1.0</td>\n      <td>0.0</td>\n      <td>1.0</td>\n      <td>...</td>\n      <td>&lt;= $75,000, Above Poverty</td>\n      <td>Married</td>\n      <td>Own</td>\n      <td>Not in Labor Force</td>\n      <td>lzgpxyit</td>\n      <td>MSA, Not Principle  City</td>\n      <td>1.0</td>\n      <td>0.0</td>\n      <td>NaN</td>\n      <td>NaN</td>\n    </tr>\n    <tr>\n      <td>13</td>\n      <td>13</td>\n      <td>1</td>\n      <td>1</td>\n      <td>False</td>\n      <td>True</td>\n      <td>0.0</td>\n      <td>1.0</td>\n      <td>0.0</td>\n      <td>0.0</td>\n      <td>1.0</td>\n      <td>...</td>\n      <td>&gt; $75,000</td>\n      <td>Married</td>\n      <td>Own</td>\n      <td>Employed</td>\n      <td>lzgpxyit</td>\n      <td>MSA, Not Principle  City</td>\n      <td>1.0</td>\n      <td>2.0</td>\n      <td>ldnlellj</td>\n      <td>kldqjyjy</td>\n    </tr>\n    <tr>\n      <td>14</td>\n      <td>14</td>\n      <td>3</td>\n      <td>1</td>\n      <td>False</td>\n      <td>True</td>\n      <td>0.0</td>\n      <td>1.0</td>\n      <td>0.0</td>\n      <td>1.0</td>\n      <td>1.0</td>\n      <td>...</td>\n      <td>&lt;= $75,000, Above Poverty</td>\n      <td>Married</td>\n      <td>Own</td>\n      <td>Not in Labor Force</td>\n      <td>qufhixun</td>\n      <td>MSA, Not Principle  City</td>\n      <td>1.0</td>\n      <td>0.0</td>\n      <td>NaN</td>\n      <td>NaN</td>\n    </tr>\n    <tr>\n      <td>15</td>\n      <td>15</td>\n      <td>1</td>\n      <td>1</td>\n      <td>False</td>\n      <td>True</td>\n      <td>0.0</td>\n      <td>0.0</td>\n      <td>0.0</td>\n      <td>0.0</td>\n      <td>0.0</td>\n      <td>...</td>\n      <td>&gt; $75,000</td>\n      <td>Married</td>\n      <td>Own</td>\n      <td>Employed</td>\n      <td>lzgpxyit</td>\n      <td>MSA, Not Principle  City</td>\n      <td>1.0</td>\n      <td>3.0</td>\n      <td>wxleyezf</td>\n      <td>emcorrxb</td>\n    </tr>\n    <tr>\n      <td>16</td>\n      <td>16</td>\n      <td>2</td>\n      <td>1</td>\n      <td>False</td>\n      <td>True</td>\n      <td>0.0</td>\n      <td>1.0</td>\n      <td>1.0</td>\n      <td>1.0</td>\n      <td>1.0</td>\n      <td>...</td>\n      <td>&lt;= $75,000, Above Poverty</td>\n      <td>Married</td>\n      <td>NaN</td>\n      <td>Not in Labor Force</td>\n      <td>oxchjgsf</td>\n      <td>MSA, Principle City</td>\n      <td>0.0</td>\n      <td>0.0</td>\n      <td>NaN</td>\n      <td>NaN</td>\n    </tr>\n    <tr>\n      <td>17</td>\n      <td>17</td>\n      <td>1</td>\n      <td>1</td>\n      <td>False</td>\n      <td>True</td>\n      <td>0.0</td>\n      <td>1.0</td>\n      <td>1.0</td>\n      <td>0.0</td>\n      <td>1.0</td>\n      <td>...</td>\n      <td>&lt;= $75,000, Above Poverty</td>\n      <td>Not Married</td>\n      <td>Own</td>\n      <td>Employed</td>\n      <td>lzgpxyit</td>\n      <td>MSA, Not Principle  City</td>\n      <td>1.0</td>\n      <td>0.0</td>\n      <td>rucpziij</td>\n      <td>xtkaffoo</td>\n    </tr>\n    <tr>\n      <td>18</td>\n      <td>18</td>\n      <td>1</td>\n      <td>2</td>\n      <td>False</td>\n      <td>True</td>\n      <td>0.0</td>\n      <td>1.0</td>\n      <td>0.0</td>\n      <td>0.0</td>\n      <td>1.0</td>\n      <td>...</td>\n      <td>&gt; $75,000</td>\n      <td>Married</td>\n      <td>Own</td>\n      <td>Employed</td>\n      <td>oxchjgsf</td>\n      <td>Non-MSA</td>\n      <td>2.0</td>\n      <td>0.0</td>\n      <td>wlfvacwt</td>\n      <td>xgwztkwe</td>\n    </tr>\n    <tr>\n      <td>19</td>\n      <td>19</td>\n      <td>2</td>\n      <td>2</td>\n      <td>False</td>\n      <td>True</td>\n      <td>0.0</td>\n      <td>1.0</td>\n      <td>0.0</td>\n      <td>1.0</td>\n      <td>1.0</td>\n      <td>...</td>\n      <td>&lt;= $75,000, Above Poverty</td>\n      <td>Married</td>\n      <td>Own</td>\n      <td>Not in Labor Force</td>\n      <td>lzgpxyit</td>\n      <td>MSA, Not Principle  City</td>\n      <td>1.0</td>\n      <td>0.0</td>\n      <td>NaN</td>\n      <td>NaN</td>\n    </tr>\n    <tr>\n      <td>20</td>\n      <td>20</td>\n      <td>3</td>\n      <td>1</td>\n      <td>False</td>\n      <td>True</td>\n      <td>1.0</td>\n      <td>1.0</td>\n      <td>1.0</td>\n      <td>1.0</td>\n      <td>1.0</td>\n      <td>...</td>\n      <td>&lt;= $75,000, Above Poverty</td>\n      <td>Not Married</td>\n      <td>Rent</td>\n      <td>Not in Labor Force</td>\n      <td>qufhixun</td>\n      <td>MSA, Principle City</td>\n      <td>0.0</td>\n      <td>0.0</td>\n      <td>NaN</td>\n      <td>NaN</td>\n    </tr>\n  </tbody>\n</table>\n<p>21 rows × 36 columns</p>\n</div>"
     },
     "metadata": {},
     "execution_count": 30
    }
   ],
   "source": [
    "h1n1.head(21)"
   ]
  }
 ]
}